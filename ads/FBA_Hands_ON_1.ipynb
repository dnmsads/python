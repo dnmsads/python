{
  "nbformat": 4,
  "nbformat_minor": 0,
  "metadata": {
    "colab": {
      "provenance": []
    },
    "kernelspec": {
      "name": "python3",
      "display_name": "Python 3"
    },
    "language_info": {
      "name": "python"
    }
  },
  "cells": [
    {
      "cell_type": "code",
      "source": [
        "# Exibe uma mensagem de boas vindas ao usuário\n",
        "print(\"Bem vindo ao Sistema de Planejamento de Refeições Sustentáveis!\")"
      ],
      "metadata": {
        "colab": {
          "base_uri": "https://localhost:8080/"
        },
        "id": "VveDyNAOcGaI",
        "outputId": "d17d5d06-3002-4fc6-8796-a0398acb0108"
      },
      "execution_count": null,
      "outputs": [
        {
          "output_type": "stream",
          "name": "stdout",
          "text": [
            "Bem vindo ao Sistema de Planejamento de Refeições Sustentáveis!\n"
          ]
        }
      ]
    },
    {
      "cell_type": "code",
      "source": [
        "print(\"Uma alimentação saudável e sustentável é essencial para o bem-estar e para a preservação do meio ambiente.\")\n",
        "print(\"Dica: Planeje suas refeições com antecedência para evitar o desperdício.\")"
      ],
      "metadata": {
        "colab": {
          "base_uri": "https://localhost:8080/"
        },
        "id": "_p3VJCpleAeX",
        "outputId": "b4173f1c-bb58-4dbd-f864-7e5a1d9ebb4b"
      },
      "execution_count": null,
      "outputs": [
        {
          "output_type": "stream",
          "name": "stdout",
          "text": [
            "Uma alimentação saudável e sustentável é essencial para o bem-estar e para a preservação do meio ambiente.\n",
            "Dica: Planeje suas refeições com antecedência para evitar o desperdício.\n"
          ]
        }
      ]
    },
    {
      "cell_type": "code",
      "source": [
        "print(\"Uma alimentação saudável e sustentável é essencial para o bem-estar e para a preservação do meio ambiente.\\nDica: Planeje suas refeições com antecedência para evitar o desperdício.\")"
      ],
      "metadata": {
        "colab": {
          "base_uri": "https://localhost:8080/"
        },
        "id": "S34Cw79reP2x",
        "outputId": "cd165dd6-9921-47c1-83d4-a0c1e7fa1ba8"
      },
      "execution_count": null,
      "outputs": [
        {
          "output_type": "stream",
          "name": "stdout",
          "text": [
            "Uma alimentação saudável e sustentável é essencial para o bem-estar e para a preservação do meio ambiente.\n",
            "Dica: Planeje suas refeições com antecedência para evitar o desperdício.\n"
          ]
        }
      ]
    },
    {
      "cell_type": "code",
      "source": [
        "print(\"Uma alimentação saudável e sustentável é essencial para o bem-estar e para a preservação do meio ambiente.\")\n",
        "print(\"-----------------------------------------------------------------------------------------------------------\")\n",
        "print(\"Dica: Planeje suas refeições com antecedência para evitar o desperdício.\")"
      ],
      "metadata": {
        "colab": {
          "base_uri": "https://localhost:8080/"
        },
        "id": "xF2yKOJ0euzv",
        "outputId": "f2642a8e-c3eb-4f00-aafb-01c89baada7b"
      },
      "execution_count": null,
      "outputs": [
        {
          "output_type": "stream",
          "name": "stdout",
          "text": [
            "Uma alimentação saudável e sustentável é essencial para o bem-estar e para a preservação do meio ambiente.\n",
            "-----------------------------------------------------------------------------------------------------------\n",
            "Dica: Planeje suas refeições com antecedência para evitar o desperdício.\n"
          ]
        }
      ]
    },
    {
      "cell_type": "code",
      "source": [
        "# Personalizando a mensagem de boas vindas\n",
        "nome_do_usuario = \"Lucas\" # Troque pelo seu nome\n",
        "print(\"Bem-vindo, \" + nome_do_usuario + \", ao Sistema de Planejamento de Refeições Sustentáveis!\")"
      ],
      "metadata": {
        "colab": {
          "base_uri": "https://localhost:8080/"
        },
        "id": "JZn-q5PhfFVO",
        "outputId": "bbddc1e2-4620-47ba-bc4f-6a0fb7aee138"
      },
      "execution_count": null,
      "outputs": [
        {
          "output_type": "stream",
          "name": "stdout",
          "text": [
            "Bem-vindo, Lucas, ao Sistema de Planejamento de Refeições Sustentáveis!\n"
          ]
        }
      ]
    },
    {
      "cell_type": "code",
      "source": [],
      "metadata": {
        "id": "VyRqqazRfWD4"
      },
      "execution_count": null,
      "outputs": []
    }
  ]
}