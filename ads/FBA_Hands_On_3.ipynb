{
  "nbformat": 4,
  "nbformat_minor": 0,
  "metadata": {
    "colab": {
      "provenance": []
    },
    "kernelspec": {
      "name": "python3",
      "display_name": "Python 3"
    },
    "language_info": {
      "name": "python"
    }
  },
  "cells": [
    {
      "cell_type": "code",
      "source": [
        "# Função para calcular o total de calorias\n",
        "def calcular_calorias(quantidade, calorias_por_unidade):\n",
        "  \"\"\"\n",
        "  Calcula o total de calorias com base na quantidade e calorias por unidade.\n",
        "  Paramêtros:\n",
        "  quantidade (int): A quantidade de porções.\n",
        "  calorias_por_unidade (float): As calorias por unidade.\n",
        "  Retorna:\n",
        "  total_calorias (float): O total de calorias.\n",
        "  \"\"\"\n",
        "  total_calorias = quantidade * calorias_por_unidade\n",
        "  return total_calorias\n",
        "\n",
        "# Função com desconto opcional\n",
        "def calcular_total(valor_unitario, quantidade, desconto=0):\n",
        "  \"\"\"\n",
        "  Calcula o total com base no valor unitário, quantidade e desconto (opcional).\n",
        "  Paramêtros:\n",
        "  valor_unitario (float): O valor unitário do item.\n",
        "  quantidade (int): A quantidade do item.\n",
        "  desconto (float, opcional): O valor do desconto em porcentagem.\n",
        "  Retorna:\n",
        "  \"\"\"\n",
        "  total = valor_unitario * quantidade\n",
        "  if desconto > 5:\n",
        "    total -= total * (desconto / 100)\n",
        "    return total\n",
        "  else:\n",
        "    mensagem = \"Desconto não foi alcançado!\"\n",
        "    return mensagem"
      ],
      "metadata": {
        "id": "c0VXOaKZjas6"
      },
      "execution_count": 24,
      "outputs": []
    },
    {
      "cell_type": "code",
      "source": [
        "# Pergunta para o usuário a quantidade e calorias por unidade\n",
        "quantidade = int(input(\"Digite a quantidade de porções: \"))\n",
        "calorias_por_unidade = float(input(\"Digite as calorias por unidade: \"))\n",
        "\n",
        "# Calcula o total de calorias\n",
        "total_calorias = calcular_calorias(quantidade, calorias_por_unidade)\n",
        "print(f\"O total de calorias é: {total_calorias}\")"
      ],
      "metadata": {
        "colab": {
          "base_uri": "https://localhost:8080/"
        },
        "id": "rpAeNfCthpXI",
        "outputId": "be5558ce-4f08-41f2-bc29-d5ab28221e51"
      },
      "execution_count": 25,
      "outputs": [
        {
          "output_type": "stream",
          "name": "stdout",
          "text": [
            "Digite a quantidade de porções: 1\n",
            "Digite as calorias por unidade: 3\n",
            "O total de calorias é: 3.0\n"
          ]
        }
      ]
    },
    {
      "cell_type": "code",
      "source": [
        "# Testando a função\n",
        "print(calcular_total(20, 3)) # Sem desconto\n",
        "print(calcular_total(20, 3, desconto=10)) # Com 10% de desconto\n",
        "\n"
      ],
      "metadata": {
        "colab": {
          "base_uri": "https://localhost:8080/"
        },
        "id": "8Uuk7blxiNyw",
        "outputId": "133666ef-1a4f-484c-c946-d7a8c9fb8064"
      },
      "execution_count": 26,
      "outputs": [
        {
          "output_type": "stream",
          "name": "stdout",
          "text": [
            "Desconto não foi alcançado!\n",
            "54.0\n"
          ]
        }
      ]
    },
    {
      "cell_type": "code",
      "source": [
        "import random\n",
        "# Lista de sugestões\n",
        "sugestoes = [\"Salada de frutas\", \"Macarrão com molho branco\", \"Risoto de legumes\", \"Sopa de abóbora\"]\n",
        "quantidade_sugestoes = len(sugestoes)\n",
        "\n",
        "if quantidade_sugestoes >= 3:\n",
        "  print(random.choice(sugestoes))\n",
        "else:\n",
        "  print(\"Quantidade de sugestões baixas, minimo 3.\")\n",
        "\n"
      ],
      "metadata": {
        "colab": {
          "base_uri": "https://localhost:8080/"
        },
        "id": "Yvqa6oRxionD",
        "outputId": "4b9a6900-1aad-4c59-91a0-04b6e69885b1"
      },
      "execution_count": 27,
      "outputs": [
        {
          "output_type": "stream",
          "name": "stdout",
          "text": [
            "Macarrão com molho branco\n"
          ]
        }
      ]
    }
  ]
}