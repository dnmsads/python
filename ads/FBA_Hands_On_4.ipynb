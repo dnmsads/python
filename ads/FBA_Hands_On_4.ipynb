{
  "nbformat": 4,
  "nbformat_minor": 0,
  "metadata": {
    "colab": {
      "provenance": []
    },
    "kernelspec": {
      "name": "python3",
      "display_name": "Python 3"
    },
    "language_info": {
      "name": "python"
    }
  },
  "cells": [
    {
      "cell_type": "code",
      "execution_count": 5,
      "metadata": {
        "colab": {
          "base_uri": "https://localhost:8080/"
        },
        "id": "kNoEQpb47zLS",
        "outputId": "ab595ad7-d5af-4942-f40b-e098c9db7b03"
      },
      "outputs": [
        {
          "output_type": "stream",
          "name": "stdout",
          "text": [
            "Refeição: Macarrão ao molho | Calorias: 500 | Tempo de preparo: 10\n"
          ]
        }
      ],
      "source": [
        "# Classe Refeicao\n",
        "class Refeicao:\n",
        "  \"\"\"\n",
        "  Classe que representa uma refeição com nome, calorias e tempo de preparo\n",
        "  Atributos:\n",
        "    nome: str\n",
        "    calorias: int\n",
        "    tempo_preparo: int\n",
        "  \"\"\"\n",
        "  def __init__(self, nome, calorias, tempo_preparo = None):\n",
        "    self.nome = nome\n",
        "    self.calorias = calorias\n",
        "    self.tempo_preparo = tempo_preparo\n",
        "  def exibir_informacoes(self):\n",
        "    \"\"\"\n",
        "    Exibe as informações da refeição\n",
        "    \"\"\"\n",
        "    print(f\"Refeição: {self.nome} | Calorias: {self.calorias} | Tempo de preparo: {self.tempo_preparo}\")\n",
        "\n",
        "\n",
        "# Criando objetos\n",
        "refeicao1 = Refeicao(\"Macarrão ao molho\", 500, 10)\n",
        "refeicao1.exibir_informacoes()\n",
        "\n"
      ]
    },
    {
      "cell_type": "code",
      "source": [
        "# Subclasse Sobremesa herdando de Refeicao\n",
        "class Sobremesa(Refeicao):\n",
        "  \"\"\"\n",
        "  Classe que representa uma sobremesa com nome, calorias, tempo de preparo e se contém açúcar\n",
        "  Herdando de Refeicao\n",
        "  Atributos:\n",
        "    nome: str\n",
        "    calorias: int\n",
        "    tempo_preparo: int\n",
        "    contem_acucar: bool\n",
        "  \"\"\"\n",
        "  def __init__(self, nome, calorias, contem_acucar):\n",
        "    super().__init__(nome, calorias, 10)\n",
        "    self.contem_acucar = contem_acucar\n",
        "  def exibir_informacoes(self):\n",
        "    \"\"\"\n",
        "    Exibe as informações da sobremesa usando a função da classe Refeicao\n",
        "    \"\"\"\n",
        "    super().exibir_informacoes()\n",
        "    print(f\"Contém açúcar: {'Sim' if self.contem_acucar else 'Não'}\")\n",
        "\n",
        "# Criando objetos\n",
        "sobremesa1 = Sobremesa(\"Pudim\", 250, True)\n",
        "sobremesa1.exibir_informacoes()\n",
        "\n"
      ],
      "metadata": {
        "colab": {
          "base_uri": "https://localhost:8080/"
        },
        "id": "25z0ClfJ8Qx9",
        "outputId": "ab42085d-1521-4a5c-dc60-76cbd53780da"
      },
      "execution_count": 7,
      "outputs": [
        {
          "output_type": "stream",
          "name": "stdout",
          "text": [
            "Refeição: Pudim | Calorias: 250 | Tempo de preparo: 10\n",
            "Contém açúcar: Sim\n"
          ]
        }
      ]
    },
    {
      "cell_type": "code",
      "source": [
        "# Subclasse Prato Principal herdando de Refeição\n",
        "class PratoPrincipal(Refeicao):\n",
        "  \"\"\"\n",
        "  Classe que representa um prato principal com nome, calorias, tempo de preparo e tipo de proteina\n",
        "  Herdando de Refeicao\n",
        "  Atributos:\n",
        "    nome: str\n",
        "    calorias: int\n",
        "    tempo_preparo: int\n",
        "    tipo_proteina: str\n",
        "  \"\"\"\n",
        "  def __init__(self, nome, calorias, tipo_proteina):\n",
        "    super().__init__(nome, calorias, 30)\n",
        "    self.tipo_proteina = tipo_proteina\n",
        "  def exibir_informacoes(self):\n",
        "    \"\"\"\n",
        "    Exibe as informações do prato principal usando a função da classe Refeicao\n",
        "    \"\"\"\n",
        "    super().exibir_informacoes()\n",
        "    print(f\"Tipo de proteina: {self.tipo_proteina}\")\n",
        "\n",
        "pratoPrincipal1= PratoPrincipal(\"Lasanha\", 800, \"Frango\")\n",
        "pratoPrincipal1.exibir_informacoes()"
      ],
      "metadata": {
        "colab": {
          "base_uri": "https://localhost:8080/"
        },
        "id": "LW9db8DZ-XBY",
        "outputId": "ff95dc0d-00c7-47de-bbe7-e8d6eb9c2792"
      },
      "execution_count": 23,
      "outputs": [
        {
          "output_type": "stream",
          "name": "stdout",
          "text": [
            "Refeição: Lasanha | Calorias: 800 | Tempo de preparo: 30\n",
            "Tipo de proteina: Frango\n"
          ]
        }
      ]
    },
    {
      "cell_type": "code",
      "source": [
        "# Salvando informações em um arquivo\n",
        "with open(\"refeicoes.txt\", \"w\") as arquivo:\n",
        "  \"\"\"\n",
        "  Abrindo o arquivo em modo de escrita, com o nome \"refeicoes.txt\"\n",
        "  \"\"\"\n",
        "  arquivo.write(f\"{refeicao1.nome}, {refeicao1.calorias}, {refeicao1.tempo_preparo}\\n\")\n",
        "  arquivo.write(f\"{sobremesa1.nome}, {sobremesa1.calorias}, {sobremesa1.tempo_preparo}, {sobremesa1.contem_acucar}\\n\")\n",
        "  arquivo.write(f\"{pratoPrincipal1.nome}, {pratoPrincipal1.calorias}, {pratoPrincipal1.tempo_preparo}, {pratoPrincipal1.tipo_proteina}\\n\")\n",
        "\n",
        "\n"
      ],
      "metadata": {
        "id": "Scv59l8U_TeZ"
      },
      "execution_count": 22,
      "outputs": []
    },
    {
      "cell_type": "code",
      "source": [
        "# Ler o arquivo linha por linha e mostrar na tela\n",
        "with open(\"refeicoes.txt\", \"r\") as arquivo:\n",
        "  \"\"\"\n",
        "  Abrindo o arquivo em modo de leitura, com o nome \"refeicoes.txt\"\n",
        "  \"\"\"\n",
        "  for linha in arquivo:\n",
        "    \"\"\"\n",
        "    Percorrendo cada linha do arquivo, removendo espaços em branco e pulo de linha com strip\n",
        "    \"\"\"\n",
        "    print(linha.strip())"
      ],
      "metadata": {
        "colab": {
          "base_uri": "https://localhost:8080/"
        },
        "id": "hI7F7IAoA1ZR",
        "outputId": "256072cd-1f69-4dcd-9a38-f07926f8ba6f"
      },
      "execution_count": 25,
      "outputs": [
        {
          "output_type": "stream",
          "name": "stdout",
          "text": [
            "Macarrão ao molho, 500, 10\n",
            "\n",
            "Pudim, 250, 10, True\n",
            "\n",
            "Lasanha, 800, 30, Frango\n",
            "\n"
          ]
        }
      ]
    },
    {
      "cell_type": "code",
      "source": [],
      "metadata": {
        "id": "bmj86VvyE8Be"
      },
      "execution_count": null,
      "outputs": []
    }
  ]
}