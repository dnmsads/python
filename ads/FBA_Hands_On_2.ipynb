{
  "nbformat": 4,
  "nbformat_minor": 0,
  "metadata": {
    "colab": {
      "provenance": []
    },
    "kernelspec": {
      "name": "python3",
      "display_name": "Python 3"
    },
    "language_info": {
      "name": "python"
    }
  },
  "cells": [
    {
      "cell_type": "code",
      "execution_count": 1,
      "metadata": {
        "colab": {
          "base_uri": "https://localhost:8080/"
        },
        "id": "j86r9R1z3RRd",
        "outputId": "4d417017-e24c-4653-ef11-6aeb537489cb"
      },
      "outputs": [
        {
          "output_type": "stream",
          "name": "stdout",
          "text": [
            "Ingredientes disponíveis: ['arroz', 'feijão', 'batata']\n"
          ]
        }
      ],
      "source": [
        "# Lista inicial de igredientes\n",
        "ingredientes = [\"arroz\", \"feijão\", \"batata\"]\n",
        "print(\"Ingredientes disponíveis:\", ingredientes)"
      ]
    },
    {
      "cell_type": "code",
      "source": [
        "# Adicionando mais igredientes na lista\n",
        "ingredientes.append(\"alface\")\n",
        "ingredientes.append(\"tomate\")\n",
        "# Mostrando quantidade de igredientes da lista\n",
        "print(len(ingredientes))"
      ],
      "metadata": {
        "colab": {
          "base_uri": "https://localhost:8080/"
        },
        "id": "GYu9qF2j3ljM",
        "outputId": "2d101333-8643-4a2e-9fc3-116f319ab6b7"
      },
      "execution_count": 2,
      "outputs": [
        {
          "output_type": "stream",
          "name": "stdout",
          "text": [
            "5\n"
          ]
        }
      ]
    },
    {
      "cell_type": "code",
      "source": [
        "# Permitir que o usuário adicione novos igredientes na lista\n",
        "novo_ingrediente = input(\"Digite um novo ingrediente: \")\n",
        "if not novo_ingrediente:\n",
        "  print(\"É necessário informar um ingrediente!\")\n",
        "else:\n",
        "  # Insere somente quando o usuário informa o ingrediente\n",
        "  ingredientes.append(novo_ingrediente)\n",
        "  print(\"Lista atualizada de ingredientes:\", ingredientes)"
      ],
      "metadata": {
        "colab": {
          "base_uri": "https://localhost:8080/"
        },
        "id": "wFhC5jKd4gAi",
        "outputId": "d0c12bb4-01b0-4439-a34a-056ad4978024"
      },
      "execution_count": 5,
      "outputs": [
        {
          "output_type": "stream",
          "name": "stdout",
          "text": [
            "Digite um novo ingrediente: \n",
            "É necessário informar um ingrediente!\n"
          ]
        }
      ]
    },
    {
      "cell_type": "code",
      "source": [
        "if \"arroz\" in ingredientes and \"feijão\" in ingredientes:\n",
        "  print(\"Sugerimos uma receita de arroz com feijão!\")\n",
        "elif \"batata\" in ingredientes:\n",
        "  print(\"Sugerimos uma receita de purê de batata!\")\n",
        "elif \"tomate\" in ingredientes:\n",
        "  print(\"Sugerimos uma receita de molho de tomate!\")\n",
        "else:\n",
        "  print(\"Adicione mais ingredientes para sugestões de receitas!\")\n",
        "\n"
      ],
      "metadata": {
        "colab": {
          "base_uri": "https://localhost:8080/"
        },
        "id": "qbrZjmlT5Dil",
        "outputId": "fb14823c-bf85-4947-bd4f-3265b5714110"
      },
      "execution_count": 6,
      "outputs": [
        {
          "output_type": "stream",
          "name": "stdout",
          "text": [
            "Sugerimos uma receita de arroz com feijão!\n"
          ]
        }
      ]
    },
    {
      "cell_type": "code",
      "source": [
        "print(\"Igredientes disponíveis:\\n\")\n",
        "for ingrediente in ingredientes:\n",
        "  print(\"*\" * 10)\n",
        "  # Primeira letra maiuscula\n",
        "  print(ingrediente.capitalize())"
      ],
      "metadata": {
        "colab": {
          "base_uri": "https://localhost:8080/"
        },
        "id": "Q1aoZNR_6XTG",
        "outputId": "25029736-050f-4de0-ccda-e34a659c0d8f"
      },
      "execution_count": 18,
      "outputs": [
        {
          "output_type": "stream",
          "name": "stdout",
          "text": [
            "Igredientes disponíveis:\n",
            "\n",
            "**********\n",
            "Arroz\n",
            "**********\n",
            "Feijão\n",
            "**********\n",
            "Batata\n",
            "**********\n",
            "Alface\n",
            "**********\n",
            "Tomate\n",
            "**********\n",
            "Carne\n",
            "**********\n",
            "Carne\n"
          ]
        }
      ]
    },
    {
      "cell_type": "code",
      "source": [],
      "metadata": {
        "id": "PZLOXKGL641r"
      },
      "execution_count": null,
      "outputs": []
    }
  ]
}